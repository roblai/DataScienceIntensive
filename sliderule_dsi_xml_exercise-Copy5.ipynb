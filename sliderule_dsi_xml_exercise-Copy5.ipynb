{
 "cells": [
  {
   "cell_type": "markdown",
   "metadata": {},
   "source": [
    "# XML example and exercise\n",
    "****\n",
    "+ study examples of accessing nodes in XML tree structure  \n",
    "+ work on exercise to be completed and submitted\n",
    "****\n",
    "+ reference: https://docs.python.org/2.7/library/xml.etree.elementtree.html\n",
    "+ data source: http://www.dbis.informatik.uni-goettingen.de/Mondial\n",
    "****"
   ]
  },
  {
   "cell_type": "markdown",
   "metadata": {},
   "source": [
    "****\n",
    "## XML exercise\n",
    "\n",
    "Using data in 'data/mondial_database.xml', the examples above, and refering to https://docs.python.org/2.7/library/xml.etree.elementtree.html, find\n",
    "\n",
    "1. 10 countries with the lowest infant mortality rates\n",
    "2. 10 cities with the largest population\n",
    "3. 10 ethnic groups with the largest overall populations (sum of best/latest estimates over all countries)\n",
    "4. name and country of a) longest river, b) largest lake and c) airport at highest elevation"
   ]
  },
  {
   "cell_type": "code",
   "execution_count": 25,
   "metadata": {
    "collapsed": false
   },
   "outputs": [],
   "source": [
    "from xml.etree import ElementTree as ET"
   ]
  },
  {
   "cell_type": "code",
   "execution_count": 26,
   "metadata": {
    "collapsed": true
   },
   "outputs": [],
   "source": [
    "document = ET.parse( 'mondial_database.xml' )"
   ]
  },
  {
   "cell_type": "code",
   "execution_count": 27,
   "metadata": {
    "collapsed": true
   },
   "outputs": [],
   "source": [
    "import pandas as pd"
   ]
  },
  {
   "cell_type": "markdown",
   "metadata": {
    "collapsed": true
   },
   "source": [
    "# 1 - 10 countries with the lowest infant mortality rates"
   ]
  },
  {
   "cell_type": "code",
   "execution_count": 28,
   "metadata": {
    "collapsed": false
   },
   "outputs": [
    {
     "data": {
      "text/html": [
       "<div>\n",
       "<table border=\"1\" class=\"dataframe\">\n",
       "  <thead>\n",
       "    <tr style=\"text-align: right;\">\n",
       "      <th></th>\n",
       "      <th>Country</th>\n",
       "      <th>Infant_mortality</th>\n",
       "    </tr>\n",
       "  </thead>\n",
       "  <tbody>\n",
       "    <tr>\n",
       "      <th>36</th>\n",
       "      <td>Monaco</td>\n",
       "      <td>1.81</td>\n",
       "    </tr>\n",
       "    <tr>\n",
       "      <th>90</th>\n",
       "      <td>Japan</td>\n",
       "      <td>2.13</td>\n",
       "    </tr>\n",
       "    <tr>\n",
       "      <th>109</th>\n",
       "      <td>Bermuda</td>\n",
       "      <td>2.48</td>\n",
       "    </tr>\n",
       "    <tr>\n",
       "      <th>34</th>\n",
       "      <td>Norway</td>\n",
       "      <td>2.48</td>\n",
       "    </tr>\n",
       "    <tr>\n",
       "      <th>98</th>\n",
       "      <td>Singapore</td>\n",
       "      <td>2.53</td>\n",
       "    </tr>\n",
       "    <tr>\n",
       "      <th>35</th>\n",
       "      <td>Sweden</td>\n",
       "      <td>2.60</td>\n",
       "    </tr>\n",
       "    <tr>\n",
       "      <th>8</th>\n",
       "      <td>Czech Republic</td>\n",
       "      <td>2.63</td>\n",
       "    </tr>\n",
       "    <tr>\n",
       "      <th>72</th>\n",
       "      <td>Hong Kong</td>\n",
       "      <td>2.73</td>\n",
       "    </tr>\n",
       "    <tr>\n",
       "      <th>73</th>\n",
       "      <td>Macao</td>\n",
       "      <td>3.13</td>\n",
       "    </tr>\n",
       "    <tr>\n",
       "      <th>39</th>\n",
       "      <td>Iceland</td>\n",
       "      <td>3.15</td>\n",
       "    </tr>\n",
       "  </tbody>\n",
       "</table>\n",
       "</div>"
      ],
      "text/plain": [
       "            Country  Infant_mortality\n",
       "36           Monaco              1.81\n",
       "90            Japan              2.13\n",
       "109         Bermuda              2.48\n",
       "34           Norway              2.48\n",
       "98        Singapore              2.53\n",
       "35           Sweden              2.60\n",
       "8    Czech Republic              2.63\n",
       "72        Hong Kong              2.73\n",
       "73            Macao              3.13\n",
       "39          Iceland              3.15"
      ]
     },
     "execution_count": 28,
     "metadata": {},
     "output_type": "execute_result"
    }
   ],
   "source": [
    "# create country and infant mortality lists\n",
    "ctry = []\n",
    "mort = []\n",
    "\n",
    "# build list from xml elements\n",
    "for element in document.getroot():\n",
    "    for subelement in element.iter('infant_mortality'):\n",
    "        ctry.append(element.find('name').text )\n",
    "        mort.append(float(subelement.text))\n",
    "\n",
    "# merge lists into a dictionary\n",
    "ctry_by_mort = {'Country':ctry, 'Infant_mortality':mort}\n",
    "\n",
    "# create dataframe to sort on mortality rate \n",
    "df1 = pd.DataFrame(data=ctry_by_mort)\n",
    "df1.sort_values('Infant_mortality',ascending=True).head(10)\n"
   ]
  },
  {
   "cell_type": "markdown",
   "metadata": {},
   "source": [
    "# 2 - 10 cities with the largest population"
   ]
  },
  {
   "cell_type": "code",
   "execution_count": 29,
   "metadata": {
    "collapsed": false
   },
   "outputs": [
    {
     "data": {
      "text/html": [
       "<div>\n",
       "<table border=\"1\" class=\"dataframe\">\n",
       "  <thead>\n",
       "    <tr style=\"text-align: right;\">\n",
       "      <th></th>\n",
       "      <th>city</th>\n",
       "      <th>population</th>\n",
       "    </tr>\n",
       "  </thead>\n",
       "  <tbody>\n",
       "    <tr>\n",
       "      <th>1251</th>\n",
       "      <td>Shanghai</td>\n",
       "      <td>22315474</td>\n",
       "    </tr>\n",
       "    <tr>\n",
       "      <th>707</th>\n",
       "      <td>Istanbul</td>\n",
       "      <td>13710512</td>\n",
       "    </tr>\n",
       "    <tr>\n",
       "      <th>1421</th>\n",
       "      <td>Mumbai</td>\n",
       "      <td>12442373</td>\n",
       "    </tr>\n",
       "    <tr>\n",
       "      <th>443</th>\n",
       "      <td>Moskva</td>\n",
       "      <td>11979529</td>\n",
       "    </tr>\n",
       "    <tr>\n",
       "      <th>1250</th>\n",
       "      <td>Beijing</td>\n",
       "      <td>11716620</td>\n",
       "    </tr>\n",
       "    <tr>\n",
       "      <th>2594</th>\n",
       "      <td>São Paulo</td>\n",
       "      <td>11152344</td>\n",
       "    </tr>\n",
       "    <tr>\n",
       "      <th>1252</th>\n",
       "      <td>Tianjin</td>\n",
       "      <td>11090314</td>\n",
       "    </tr>\n",
       "    <tr>\n",
       "      <th>974</th>\n",
       "      <td>Guangzhou</td>\n",
       "      <td>11071424</td>\n",
       "    </tr>\n",
       "    <tr>\n",
       "      <th>1467</th>\n",
       "      <td>Delhi</td>\n",
       "      <td>11034555</td>\n",
       "    </tr>\n",
       "    <tr>\n",
       "      <th>977</th>\n",
       "      <td>Shenzhen</td>\n",
       "      <td>10358381</td>\n",
       "    </tr>\n",
       "  </tbody>\n",
       "</table>\n",
       "</div>"
      ],
      "text/plain": [
       "           city  population\n",
       "1251   Shanghai    22315474\n",
       "707    Istanbul    13710512\n",
       "1421     Mumbai    12442373\n",
       "443      Moskva    11979529\n",
       "1250    Beijing    11716620\n",
       "2594  São Paulo    11152344\n",
       "1252    Tianjin    11090314\n",
       "974   Guangzhou    11071424\n",
       "1467      Delhi    11034555\n",
       "977    Shenzhen    10358381"
      ]
     },
     "execution_count": 29,
     "metadata": {},
     "output_type": "execute_result"
    }
   ],
   "source": [
    "# Create a city list\n",
    "city = []\n",
    "\n",
    "# build list from xml elements\n",
    "for element in document.iterfind('country'):\n",
    "    for subelement in element.iter('city'):\n",
    "        # eliminate nulls\n",
    "        if subelement.find('population') != None: \n",
    "            city_by_pop = {}\n",
    "            city_by_pop['city'] = subelement.find('name').text\n",
    "            # Take the last one of all populations measured\n",
    "            city_by_pop['population'] = int(subelement.findall('population')[-1].text)\n",
    "            city.append(city_by_pop)\n",
    "\n",
    "# create dataframe to sort on population \n",
    "df2 = pd.DataFrame(city)  \n",
    "df2.sort_values(by = 'population', ascending = False).head(10)\n"
   ]
  },
  {
   "cell_type": "markdown",
   "metadata": {},
   "source": [
    "# 3 - 10 ethnic groups with the largest overall populations (sum of best/latest estimates over all countries)"
   ]
  },
  {
   "cell_type": "code",
   "execution_count": 30,
   "metadata": {
    "collapsed": false
   },
   "outputs": [
    {
     "data": {
      "text/plain": [
       "ethnicgroup\n",
       "Han Chinese    1245058800\n",
       "Indo-Aryan      871815583\n",
       "European        494872201\n",
       "African         318325104\n",
       "Dravidian       302713744\n",
       "Mestizo         157734349\n",
       "Bengali         146776916\n",
       "Russian         131856989\n",
       "Japanese        126534212\n",
       "Malay           121993548\n",
       "Name: ethnic_pop, dtype: int64"
      ]
     },
     "execution_count": 30,
     "metadata": {},
     "output_type": "execute_result"
    }
   ],
   "source": [
    "# create a country list\n",
    "ctry = []\n",
    "\n",
    "# build list from xml elements\n",
    "for element in document.iterfind('country'):\n",
    "        # read in the data using a datadictionary\n",
    "        ctry_by_dict = {}\n",
    "        #make sure there is no null population values\n",
    "        if element.find('population') != None:\n",
    "            for ethnic in element.findall('ethnicgroup'):\n",
    "                ctry_by_dict['country'] = element.find('name').text\n",
    "                ctry_by_dict['population'] = int(element.findall('population')[-1].text)\n",
    "                ctry_by_dict['ethnicgroup'] = ethnic.text\n",
    "                ctry_by_dict['percentage'] = float(ethnic.attrib['percentage'])\n",
    "                ctry_by_dict['ethnic_pop'] = int(ctry_by_dict['population']*ctry_by_dict['percentage']/100)\n",
    "                ctry.append(ctry_by_dict)\n",
    "                #initiate dictionary to capture next ethnicgroup subelement\n",
    "                ctry_by_dict = {}\n",
    "\n",
    "# create df for groupby sort\n",
    "df3 = pd.DataFrame(ctry).drop_duplicates()    \n",
    "df3.groupby('ethnicgroup').ethnic_pop.sum().sort_values(ascending = False).head(10)\n"
   ]
  },
  {
   "cell_type": "markdown",
   "metadata": {},
   "source": [
    "# 4 - name and country of a) longest river, b) largest lake and c) airport at highest elevation"
   ]
  },
  {
   "cell_type": "code",
   "execution_count": null,
   "metadata": {
    "collapsed": true
   },
   "outputs": [],
   "source": [
    "# trying out DOM to create a country_name to country_code map that will be used to merge with other datasets"
   ]
  },
  {
   "cell_type": "code",
   "execution_count": 31,
   "metadata": {
    "collapsed": false
   },
   "outputs": [],
   "source": [
    "from xml.dom import minidom\n",
    "xmldoc = minidom.parse('mondial_database.xml')\n",
    "mondial = xmldoc.getElementsByTagName(\"mondial\")[0]\n",
    "countrys = mondial.getElementsByTagName(\"country\")"
   ]
  },
  {
   "cell_type": "code",
   "execution_count": 32,
   "metadata": {
    "collapsed": false
   },
   "outputs": [],
   "source": [
    "#create a map list\n",
    "cty_map = []\n",
    "\n",
    "#use DOM functions to fill list with xml elements\n",
    "for country in countrys:\n",
    "    dict = {}\n",
    "    dict ['cname']= country_name = country.getElementsByTagName(\"name\")[0].firstChild.data\n",
    "    dict ['code'] = country_code = country.getAttribute(\"car_code\")\n",
    "    cty_map.append(dict)\n",
    "\n",
    "# create a map_df, dropping anu dups         \n",
    "map_df=pd.DataFrame(cty_map).drop_duplicates()\n",
    "#print (map_df.head)\n"
   ]
  },
  {
   "cell_type": "markdown",
   "metadata": {
    "collapsed": true
   },
   "source": [
    "# 4a - name and country of a) longest river"
   ]
  },
  {
   "cell_type": "code",
   "execution_count": 33,
   "metadata": {
    "collapsed": false
   },
   "outputs": [
    {
     "data": {
      "text/html": [
       "<div>\n",
       "<table border=\"1\" class=\"dataframe\">\n",
       "  <thead>\n",
       "    <tr style=\"text-align: right;\">\n",
       "      <th></th>\n",
       "      <th>country_code</th>\n",
       "      <th>length</th>\n",
       "      <th>name</th>\n",
       "      <th>country</th>\n",
       "    </tr>\n",
       "  </thead>\n",
       "  <tbody>\n",
       "    <tr>\n",
       "      <th>171</th>\n",
       "      <td>PE</td>\n",
       "      <td>6448</td>\n",
       "      <td>Amazonas</td>\n",
       "      <td>Peru</td>\n",
       "    </tr>\n",
       "  </tbody>\n",
       "</table>\n",
       "</div>"
      ],
      "text/plain": [
       "    country_code  length      name country\n",
       "171           PE    6448  Amazonas    Peru"
      ]
     },
     "execution_count": 33,
     "metadata": {},
     "output_type": "execute_result"
    }
   ],
   "source": [
    "#create a river list\n",
    "rv = []\n",
    "\n",
    "# build list from xml elements\n",
    "for element in document.iterfind('river'):\n",
    "        dict = {}\n",
    "        # exclude nulls\n",
    "        if (element.find('length') != None) & (element.find('source') != None): \n",
    "            dict['name'] = element.find('name').text\n",
    "            dict['length'] = float(element.find('length').text)\n",
    "            dict['code'] = element.find('source').attrib['country']\n",
    "            rv.append(dict)\n",
    "\n",
    "# drop missing value          \n",
    "rv_length=pd.DataFrame(rv).dropna()\n",
    "\n",
    "# merge with country code/name map for country names\n",
    "rv_length = rv_length.merge(map_df,on='code')\n",
    "\n",
    "#rename columns for presentation\n",
    "rv_length = rv_length.rename(columns={'code':'country_code'})\n",
    "rv_length = rv_length.rename(columns={'cname':'country'})\n",
    "\n",
    "#convert lenght to int for presentation\n",
    "rv_length.length = rv_length.length.map(int)\n",
    "\n",
    "#sort by length for the longest river in the world\n",
    "rv_length.sort_values(by = 'length', ascending = False).head(1)\n"
   ]
  },
  {
   "cell_type": "markdown",
   "metadata": {
    "collapsed": true
   },
   "source": [
    "# 4b - name and country b) of largest lake"
   ]
  },
  {
   "cell_type": "code",
   "execution_count": 34,
   "metadata": {
    "collapsed": false
   },
   "outputs": [
    {
     "data": {
      "text/html": [
       "<div>\n",
       "<table border=\"1\" class=\"dataframe\">\n",
       "  <thead>\n",
       "    <tr style=\"text-align: right;\">\n",
       "      <th></th>\n",
       "      <th>area</th>\n",
       "      <th>country_code</th>\n",
       "      <th>name</th>\n",
       "      <th>country</th>\n",
       "    </tr>\n",
       "  </thead>\n",
       "  <tbody>\n",
       "    <tr>\n",
       "      <th>87</th>\n",
       "      <td>386400</td>\n",
       "      <td>R</td>\n",
       "      <td>Caspian Sea</td>\n",
       "      <td>Russia</td>\n",
       "    </tr>\n",
       "  </tbody>\n",
       "</table>\n",
       "</div>"
      ],
      "text/plain": [
       "      area country_code         name country\n",
       "87  386400            R  Caspian Sea  Russia"
      ]
     },
     "execution_count": 34,
     "metadata": {},
     "output_type": "execute_result"
    }
   ],
   "source": [
    "# create a lake list\n",
    "lake_list = []\n",
    "\n",
    "# populate list with xml elements\n",
    "for element in document.iterfind('lake'):\n",
    "        # read in the data using a data dictionary\n",
    "        dict = {}\n",
    "        # check there is no nulls\n",
    "        if element.find('area') != None: \n",
    "            dict['area'] = float(element.find('area').text)\n",
    "            # take only the first code_id \n",
    "            dict['code'] = element.attrib['country'][0]\n",
    "            dict['name'] = element.find('name').text\n",
    "            lake_list.append(dict)\n",
    "        \n",
    "# create df; drop any nulls              \n",
    "lakes = pd.DataFrame(lake_list).dropna()  \n",
    "\n",
    "# merge with country code/name map on code index\n",
    "lakes = lakes.merge(map_df,on='code')\n",
    "\n",
    "#rename columns for presentation\n",
    "lakes = lakes.rename(columns={'code':'country_code'})\n",
    "lakes = lakes.rename(columns={'cname':'country'})\n",
    "\n",
    "#convert area to int for presentation\n",
    "lakes.area = lakes.area.map(int)\n",
    "\n",
    "#sort by area to get the largest lake in the world\n",
    "lakes.sort_values(by = 'area', ascending = False).head(1)"
   ]
  },
  {
   "cell_type": "markdown",
   "metadata": {
    "collapsed": true
   },
   "source": [
    "# 4c - name and country of airport at highest elevation"
   ]
  },
  {
   "cell_type": "code",
   "execution_count": 35,
   "metadata": {
    "collapsed": false
   },
   "outputs": [
    {
     "data": {
      "text/html": [
       "<div>\n",
       "<table border=\"1\" class=\"dataframe\">\n",
       "  <thead>\n",
       "    <tr style=\"text-align: right;\">\n",
       "      <th></th>\n",
       "      <th>country_code</th>\n",
       "      <th>elevation</th>\n",
       "      <th>airport</th>\n",
       "      <th>country</th>\n",
       "    </tr>\n",
       "  </thead>\n",
       "  <tbody>\n",
       "    <tr>\n",
       "      <th>80</th>\n",
       "      <td>BOL</td>\n",
       "      <td>4063</td>\n",
       "      <td>El Alto Intl</td>\n",
       "      <td>Bolivia</td>\n",
       "    </tr>\n",
       "  </tbody>\n",
       "</table>\n",
       "</div>"
      ],
      "text/plain": [
       "   country_code  elevation       airport  country\n",
       "80          BOL       4063  El Alto Intl  Bolivia"
      ]
     },
     "execution_count": 35,
     "metadata": {},
     "output_type": "execute_result"
    }
   ],
   "source": [
    "# create airport list\n",
    "air_list = []\n",
    "\n",
    "# populate list with xml elements\n",
    "for element in document.iterfind('airport'):\n",
    "        # read in the data using a data dictionary\n",
    "        dict = {}\n",
    "        # check if the elevation is not null\n",
    "        if element.find('elevation') != None:\n",
    "            dict['code'] = element.attrib['country']\n",
    "            dict['name'] = element.find('name').text\n",
    "            dict['elevation'] = element.find('elevation').text\n",
    "            air_list.append(dict)\n",
    "            \n",
    "# create df; eliminate nulls               \n",
    "air = pd.DataFrame(air_list).dropna()  \n",
    "\n",
    "# merge with previous country name/code map on code index\n",
    "air = air.merge(map_df,on='code')\n",
    "\n",
    "#convert elevation to int for presentation\n",
    "air.elevation = air.elevation.map(int)\n",
    "\n",
    "#rename columns as needed for presentation\n",
    "air = air.rename(columns={'code':'country_code'})\n",
    "air = air.rename(columns={'cname':'country'})\n",
    "air = air.rename(columns={'name':'airport'})\n",
    "\n",
    "#sort by elevation to get the loftiest airport in the world\n",
    "air.sort_values(by = 'elevation', ascending = False).head(1)\n"
   ]
  },
  {
   "cell_type": "code",
   "execution_count": null,
   "metadata": {
    "collapsed": true
   },
   "outputs": [],
   "source": []
  }
 ],
 "metadata": {
  "anaconda-cloud": {},
  "kernelspec": {
   "display_name": "Python [Root]",
   "language": "python",
   "name": "Python [Root]"
  },
  "language_info": {
   "codemirror_mode": {
    "name": "ipython",
    "version": 3
   },
   "file_extension": ".py",
   "mimetype": "text/x-python",
   "name": "python",
   "nbconvert_exporter": "python",
   "pygments_lexer": "ipython3",
   "version": "3.5.2"
  }
 },
 "nbformat": 4,
 "nbformat_minor": 0
}
