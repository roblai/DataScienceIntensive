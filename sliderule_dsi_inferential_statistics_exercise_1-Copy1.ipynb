{
 "cells": [
  {
   "cell_type": "markdown",
   "metadata": {},
   "source": [
    "## What is the true normal human body temperature? \n",
    "\n",
    "#### Background\n",
    "\n",
    "The mean normal body temperature was held to be 37$^{\\circ}$C or 98.6$^{\\circ}$F for more than 120 years since it was first conceptualized and reported by Carl Wunderlich in a famous 1868 book. In 1992, this value was revised to 36.8$^{\\circ}$C or 98.2$^{\\circ}$F. \n",
    "\n",
    "#### Exercise\n",
    "In this exercise, you will analyze a dataset of human body temperatures and employ the concepts of hypothesis testing, confidence intervals, and statistical significance.\n",
    "\n",
    "Answer the following questions **in this notebook below and submit to your Github account**. \n",
    "\n",
    "1.  Is the distribution of body temperatures normal? \n",
    "    - Remember that this is a condition for the CLT, and hence the statistical tests we are using, to apply. \n",
    "2.  Is the true population mean really 98.6 degrees F?\n",
    "    - Bring out the one sample hypothesis test! In this situation, is it approriate to apply a z-test or a t-test? How will the result be different?\n",
    "3.  At what temperature should we consider someone's temperature to be \"abnormal\"?\n",
    "    - Start by computing the margin of error and confidence interval.\n",
    "4.  Is there a significant difference between males and females in normal temperature?\n",
    "    - Set up and solve for a two sample hypothesis testing.\n",
    "\n",
    "You can include written notes in notebook cells using Markdown: \n",
    "   - In the control panel at the top, choose Cell > Cell Type > Markdown\n",
    "   - Markdown syntax: http://nestacms.com/docs/creating-content/markdown-cheat-sheet\n",
    "\n",
    "#### Resources\n",
    "\n",
    "+ Information and data sources: http://www.amstat.org/publications/jse/datasets/normtemp.txt, http://www.amstat.org/publications/jse/jse_data_archive.htm\n",
    "+ Markdown syntax: http://nestacms.com/docs/creating-content/markdown-cheat-sheet\n",
    "\n",
    "****"
   ]
  },
  {
   "cell_type": "code",
   "execution_count": 2,
   "metadata": {
    "collapsed": true
   },
   "outputs": [],
   "source": [
    "import pandas as pd\n",
    "from __future__ import print_function, division\n",
    "\n",
    "import numpy as np\n",
    "import scipy.stats as stats\n",
    "\n",
    "import matplotlib.pyplot as pyplot\n",
    "\n",
    "from ipywidgets import interact, interactive, fixed\n",
    "import ipywidgets as widgets\n",
    "\n",
    "import math\n",
    "\n",
    "# seed the random number generator so we all get the same results\n",
    "# numpy.random.seed(17)\n",
    "\n",
    "# some nice colors from http://colorbrewer2.org/\n",
    "COLOR1 = '#7fc97f'\n",
    "COLOR2 = '#beaed4'\n",
    "COLOR3 = '#fdc086'\n",
    "COLOR4 = '#ffff99'\n",
    "COLOR5 = '#386cb0'\n",
    "\n",
    "%matplotlib inline"
   ]
  },
  {
   "cell_type": "code",
   "execution_count": 3,
   "metadata": {
    "collapsed": false
   },
   "outputs": [],
   "source": [
    "df = pd.read_csv('human_body_temperature.csv')"
   ]
  },
  {
   "cell_type": "code",
   "execution_count": 4,
   "metadata": {
    "collapsed": false
   },
   "outputs": [
    {
     "data": {
      "text/html": [
       "<div>\n",
       "<table border=\"1\" class=\"dataframe\">\n",
       "  <thead>\n",
       "    <tr style=\"text-align: right;\">\n",
       "      <th></th>\n",
       "      <th>temperature</th>\n",
       "      <th>gender</th>\n",
       "      <th>heart_rate</th>\n",
       "    </tr>\n",
       "  </thead>\n",
       "  <tbody>\n",
       "    <tr>\n",
       "      <th>125</th>\n",
       "      <td>96.3</td>\n",
       "      <td>M</td>\n",
       "      <td>70.0</td>\n",
       "    </tr>\n",
       "    <tr>\n",
       "      <th>126</th>\n",
       "      <td>97.7</td>\n",
       "      <td>M</td>\n",
       "      <td>77.0</td>\n",
       "    </tr>\n",
       "    <tr>\n",
       "      <th>127</th>\n",
       "      <td>98.2</td>\n",
       "      <td>F</td>\n",
       "      <td>73.0</td>\n",
       "    </tr>\n",
       "    <tr>\n",
       "      <th>128</th>\n",
       "      <td>97.9</td>\n",
       "      <td>M</td>\n",
       "      <td>72.0</td>\n",
       "    </tr>\n",
       "    <tr>\n",
       "      <th>129</th>\n",
       "      <td>98.7</td>\n",
       "      <td>F</td>\n",
       "      <td>59.0</td>\n",
       "    </tr>\n",
       "  </tbody>\n",
       "</table>\n",
       "</div>"
      ],
      "text/plain": [
       "     temperature gender  heart_rate\n",
       "125         96.3      M        70.0\n",
       "126         97.7      M        77.0\n",
       "127         98.2      F        73.0\n",
       "128         97.9      M        72.0\n",
       "129         98.7      F        59.0"
      ]
     },
     "execution_count": 4,
     "metadata": {},
     "output_type": "execute_result"
    }
   ],
   "source": [
    "# understand the sample size, variable names, some example values\n",
    "df.tail(n=5)"
   ]
  },
  {
   "cell_type": "markdown",
   "metadata": {},
   "source": [
    "# Is the distribution of body temperatures normal?\n",
    "Remember that this is a condition for the CLT, and hence the statistical tests we are using, to apply."
   ]
  },
  {
   "cell_type": "code",
   "execution_count": 6,
   "metadata": {
    "collapsed": false
   },
   "outputs": [
    {
     "data": {
      "image/png": "[encoded data removed]",
      "text/plain": [
       "<matplotlib.figure.Figure at 0x1b0833b2438>"
      ]
     },
     "metadata": {},
     "output_type": "display_data"
    }
   ],
   "source": [
    "#some early visualisation of the data before drilling into the calcs\n",
    "df.temperature.plot(kind=\"kde\");"
   ]
  },
  {
   "cell_type": "code",
   "execution_count": 7,
   "metadata": {
    "collapsed": false
   },
   "outputs": [
    {
     "data": {
      "image/png": "[encoded data removed]",
      "text/plain": [
       "<matplotlib.figure.Figure at 0x1b08377cfd0>"
      ]
     },
     "metadata": {},
     "output_type": "display_data"
    }
   ],
   "source": [
    "df.temperature.plot(kind=\"box\");"
   ]
  },
  {
   "cell_type": "code",
   "execution_count": 8,
   "metadata": {
    "collapsed": false
   },
   "outputs": [
    {
     "name": "stdout",
     "output_type": "stream",
     "text": [
      "130 98.24923076923078 0.5334224852071 0.7303577789050377 0.0640566146952\n"
     ]
    }
   ],
   "source": [
    "# derive some base stats to be used later\n",
    "n = n = len(df.temperature) \n",
    "temp_mean = np.mean(df.temperature)\n",
    "temp_var = np.var(df.temperature)\n",
    "temp_sd = np.std(df.temperature)\n",
    "temp_se = temp_sd / np.sqrt(n) \n",
    "print (n,temp_mean,temp_var,temp_sd,temp_se)"
   ]
  },
  {
   "cell_type": "code",
   "execution_count": 9,
   "metadata": {
    "collapsed": true
   },
   "outputs": [],
   "source": [
    "# assumed true pupulation mean is 98.6\n",
    "temp_mean_a = 98.6"
   ]
  },
  {
   "cell_type": "code",
   "execution_count": 10,
   "metadata": {
    "collapsed": true
   },
   "outputs": [],
   "source": [
    "# assume significance level is 0.05 (5%)\n",
    "alpha = 0.05"
   ]
  },
  {
   "cell_type": "code",
   "execution_count": 11,
   "metadata": {
    "collapsed": false
   },
   "outputs": [
    {
     "name": "stdout",
     "output_type": "stream",
     "text": [
      "0.7331831580389454\n"
     ]
    }
   ],
   "source": [
    "#note standard deviation calcs using numpy above is slightly different\n",
    " \n",
    "pandas_temp_sd = df.temperature.std()\n",
    "print (pandas_temp_sd)"
   ]
  },
  {
   "cell_type": "markdown",
   "metadata": {},
   "source": [
    "http://stackoverflow.com/questions/24984178/different-std-in-pandas-vs-numpy\n",
    "\n",
    "The standard deviation differs between pandas and numpy. Why and which one is the correct one? \n",
    "\n",
    "In a nutshell, neither is \"incorrect\". Pandas uses the unbiased estimator (N-1 in the denominator), whereas Numpy by default does not.\n",
    "\n"
   ]
  },
  {
   "cell_type": "code",
   "execution_count": 13,
   "metadata": {
    "collapsed": false
   },
   "outputs": [
    {
     "name": "stdout",
     "output_type": "stream",
     "text": [
      "p_value is:  0.258747986349\n",
      "H1 is true; temperature distribution is normal\n"
     ]
    }
   ],
   "source": [
    "# Use NormaltestResult to test for normality\n",
    "k,p=stats.mstats.normaltest(df.temperature)\n",
    "print ('p_value is: ',p)\n",
    "if p < alpha :\n",
    "  print ('HO is true; temperature distribution is not normal')\n",
    "else:\n",
    "  print ('H1 is true; temperature distribution is normal')"
   ]
  },
  {
   "cell_type": "code",
   "execution_count": 15,
   "metadata": {
    "collapsed": false
   },
   "outputs": [
    {
     "name": "stdout",
     "output_type": "stream",
     "text": [
      "p_value is:  0.2331680953502655\n",
      "H1 is true; temperature distribution is normal\n"
     ]
    }
   ],
   "source": [
    "# Another solution: Perform the Shapiro-Wilk test for normality.\n",
    "k,p = stats.shapiro(df.temperature)\n",
    "#k,p=stats.mstats.normaltest(df.temperature)\n",
    "print ('p_value is: ',p)\n",
    "if p < alpha :\n",
    "  print ('HO is true; temperature distribution is not normal')\n",
    "else:\n",
    "  print ('H1 is true; temperature distribution is normal')"
   ]
  },
  {
   "cell_type": "markdown",
   "metadata": {},
   "source": [
    "# Is the true population mean really 98.6 degrees F?\n",
    "Bring out the one sample hypothesis test! In this situation, is it approriate to apply a z-test or a t-test? How will the result be different?"
   ]
  },
  {
   "cell_type": "code",
   "execution_count": 16,
   "metadata": {
    "collapsed": true
   },
   "outputs": [],
   "source": [
    "# H0 : True population mean == 98.6\n",
    "# H1 : True population mean != 98.6\n",
    "# p_value threshold : 5%"
   ]
  },
  {
   "cell_type": "markdown",
   "metadata": {},
   "source": [
    "The conditions for using a t_test are:\n",
    "1. when population population std deviation is unknown == 'True'\n",
    "2. when sample size is < 30 == 'False\n",
    "\n",
    "Hence, we should use a z-test"
   ]
  },
  {
   "cell_type": "code",
   "execution_count": 15,
   "metadata": {
    "collapsed": false
   },
   "outputs": [
    {
     "name": "stdout",
     "output_type": "stream",
     "text": [
      "-5.475925202078116\n"
     ]
    }
   ],
   "source": [
    "# calculate the z_value\n",
    "z_value = (temp_mean - temp_mean_a) / (temp_sd / math.sqrt(n)) \n",
    "print (z_value"
   ]
  },
  {
   "cell_type": "code",
   "execution_count": 18,
   "metadata": {
    "collapsed": false
   },
   "outputs": [
    {
     "name": "stdout",
     "output_type": "stream",
     "text": [
      "P-value is  2.17615758294e-08\n",
      "P-value < significance level, so reject the null hypothesis. Average body temp is not 98.6 deg F\n"
     ]
    }
   ],
   "source": [
    "#get the p-value using pandas cdf function and test the null hypothesis\n",
    "p_value = stats.norm.cdf(temp_mean, temp_mean_a, temp_se)\n",
    "if p_value < alpha:\n",
    "    print ('P-value is ', p_value)\n",
    "    print ('P-value < significance level, so reject the null hypothesis. Average body temp is not 98.6 deg F')\n",
    "else:\n",
    "    print ('P-value is ', p_value)\n",
    "    print ('P-value is >= significance level, so do not reject the null hypothesis. Average body temp is 98.6 deg F')"
   ]
  },
  {
   "cell_type": "markdown",
   "metadata": {},
   "source": [
    "If we were to do a t_test:\n",
    "To conduct a one sample t-test, use the stats.ttest_1samp() function\n"
   ]
  },
  {
   "cell_type": "code",
   "execution_count": 21,
   "metadata": {
    "collapsed": false
   },
   "outputs": [
    {
     "name": "stdout",
     "output_type": "stream",
     "text": [
      "-5.45482329236 2.41063204156e-07\n",
      "P-value is  2.41063204156e-07\n",
      "P-value < significance level, so reject the null hypothesis. Average body temp is not 98.6 deg F\n"
     ]
    }
   ],
   "source": [
    "t_value, p_value = stats.ttest_1samp(a = df.temperature, popmean = temp_mean_a)\n",
    "print (t_value, p_value)\n",
    "if p_value < alpha:\n",
    "    print ('P-value is ', p_value)\n",
    "    print ('P-value < significance level, so reject the null hypothesis. Average body temp is not 98.6 deg F')\n",
    "else:\n",
    "    print ('P-value is ', p_value)\n",
    "    print ('P-value is >= significance level, so do not reject the null hypothesis. Average body temp is 98.6 deg F')"
   ]
  },
  {
   "cell_type": "markdown",
   "metadata": {},
   "source": [
    "Numerically, when n> 30, statistic t and statistic z are close, or t distribution is close to normal distribution, and more important, the influence of the degrees of freedom on the shape of distribution gradually becomes null"
   ]
  },
  {
   "cell_type": "markdown",
   "metadata": {},
   "source": [
    "# At what temperature should we consider someone's temperature to be \"abnormal\"?\n",
    "Start by computing the margin of error and confidence interval."
   ]
  },
  {
   "cell_type": "code",
   "execution_count": 22,
   "metadata": {
    "collapsed": false
   },
   "outputs": [
    {
     "name": "stdout",
     "output_type": "stream",
     "text": [
      "0.154594524242\n",
      "confidence interval:  98.094636245 to 98.4038252935\n"
     ]
    }
   ],
   "source": [
    "# calculate the 95% CI\n",
    "conf_int = stats.norm.ppf(0.95, loc=temp_mean, scale = temp_se) - 98.2\n",
    "print (conf_int)\n",
    "print ('confidence interval: ', temp_mean - conf_int, 'to', temp_mean + conf_int)"
   ]
  },
  {
   "cell_type": "code",
   "execution_count": 24,
   "metadata": {
    "collapsed": false
   },
   "outputs": [
    {
     "name": "stdout",
     "output_type": "stream",
     "text": [
      "1.95996398454\n",
      "margin of error:  12.5548657774 %\n"
     ]
    }
   ],
   "source": [
    "# calculate the margin of error for 95% CI level\n",
    "z = stats.norm.ppf(0.975)\n",
    "mo_error = z * temp_se\n",
    "print (z)\n",
    "print (\"margin of error: \", mo_error * 100, '%')"
   ]
  },
  {
   "cell_type": "code",
   "execution_count": 27,
   "metadata": {
    "collapsed": false
   },
   "outputs": [
    {
     "name": "stdout",
     "output_type": "stream",
     "text": [
      "0.198248738645\n",
      "confidence interval:  98.0509820306 to 98.4474795079\n"
     ]
    }
   ],
   "source": [
    "# calculate the 99% CI for comparison\n",
    "conf_int = stats.norm.ppf(0.99, loc=temp_mean, scale = temp_se) - 98.2\n",
    "print (conf_int)\n",
    "print ('confidence interval: ', temp_mean - conf_int, 'to', temp_mean + conf_int)"
   ]
  },
  {
   "cell_type": "code",
   "execution_count": 28,
   "metadata": {
    "collapsed": false
   },
   "outputs": [
    {
     "name": "stdout",
     "output_type": "stream",
     "text": [
      "2.57582930355\n",
      "margin of error:  16.4998905218 %\n"
     ]
    }
   ],
   "source": [
    "# calculate the margin of error for 99% CI level\n",
    "z = stats.norm.ppf(0.995)\n",
    "mo_error = z * temp_se\n",
    "print (z)\n",
    "print (\"margin of error: \", mo_error * 100, '%')"
   ]
  },
  {
   "cell_type": "raw",
   "metadata": {
    "collapsed": true
   },
   "source": [
    "# A two-tailed comparison is used - as both abnormally low and high temperatures indicate some kind of sickness (eg. malaria)\n",
    "# A 1% level has high margin of error and may create Type I error. 5% level looks acceptable."
   ]
  },
  {
   "cell_type": "markdown",
   "metadata": {},
   "source": [
    "# Is there a significant difference between males and females in normal temperature?\n",
    "Set up and solve for a two sample hypothesis testing."
   ]
  },
  {
   "cell_type": "code",
   "execution_count": null,
   "metadata": {
    "collapsed": true
   },
   "outputs": [],
   "source": [
    "# create initial visualisation of 'by gender'"
   ]
  },
  {
   "cell_type": "code",
   "execution_count": 29,
   "metadata": {
    "collapsed": false
   },
   "outputs": [
    {
     "data": {
      "image/png": "[encoded data removed]",
      "text/plain": [
       "<matplotlib.figure.Figure at 0x1b08384a080>"
      ]
     },
     "metadata": {},
     "output_type": "display_data"
    }
   ],
   "source": [
    "df.boxplot(column=\"temperature\", by ='gender');"
   ]
  },
  {
   "cell_type": "code",
   "execution_count": 30,
   "metadata": {
    "collapsed": false
   },
   "outputs": [],
   "source": [
    "# H0 : There is NO difference between female/male temperatures\n",
    "# H1 : There IS a difference between female/male temperatures\n",
    "# p_value threshold : 5%"
   ]
  },
  {
   "cell_type": "code",
   "execution_count": 31,
   "metadata": {
    "collapsed": false
   },
   "outputs": [],
   "source": [
    "# split df by gender into female and male subsets\n",
    "df1 = df[df['gender'] == 'F']\n",
    "df2 = df[df['gender'] == 'M']"
   ]
  },
  {
   "cell_type": "code",
   "execution_count": 32,
   "metadata": {
    "collapsed": false
   },
   "outputs": [
    {
     "name": "stdout",
     "output_type": "stream",
     "text": [
      "female stats:  65 98.39384615384613 0.5442698224852062 0.7377464486428966 0.0640566146952\n",
      "  male stats:  65 98.1046153846154 0.4807479289940825 0.6933598841828696 0.0640566146952\n"
     ]
    }
   ],
   "source": [
    "#get stats for female\n",
    "n1 = len(df1.temperature) \n",
    "temp_mean1 = np.mean(df1.temperature)\n",
    "temp_var1 = np.var(df1.temperature)\n",
    "temp_sd1 = np.std(df1.temperature)\n",
    "temp_se1 = temp_sd / np.sqrt(n) \n",
    "print ('female stats: ',n1,temp_mean1,temp_var1,temp_sd1,temp_se1)\n",
    "#get stats for male\n",
    "n2 = len(df2.temperature) \n",
    "temp_mean2 = np.mean(df2.temperature)\n",
    "temp_var2 = np.var(df2.temperature)\n",
    "temp_sd2 = np.std(df2.temperature)\n",
    "temp_se2 = temp_sd / np.sqrt(n) \n",
    "print ('  male stats: ',n2,temp_mean2,temp_var2,temp_sd2,temp_se2)"
   ]
  },
  {
   "cell_type": "code",
   "execution_count": 34,
   "metadata": {
    "collapsed": true
   },
   "outputs": [],
   "source": [
    "#create a function to return z_value and p_value\n",
    "def twoSampZ(X1, X2, mudiff, sd1, sd2, n1, n2):\n",
    "    from numpy import sqrt, abs, round\n",
    "    from scipy.stats import norm\n",
    "    pooledSE = sqrt(sd1**2/n1 + sd2**2/n2)\n",
    "    z = ((X1 - X2) - mudiff)/pooledSE\n",
    "    pval = 2*(1 - norm.cdf(abs(z)))\n",
    "    return round(z, 3), round(pval, 4)"
   ]
  },
  {
   "cell_type": "code",
   "execution_count": 35,
   "metadata": {
    "collapsed": false
   },
   "outputs": [
    {
     "name": "stdout",
     "output_type": "stream",
     "text": [
      "2.303 0.0213\n",
      "P-value is  0.0213\n",
      "Reject H0: There IS a difference between female/male mean temperatures\n"
     ]
    }
   ],
   "source": [
    "z_value, p_value = twoSampZ(temp_mean1, temp_mean2, 0, temp_sd1, temp_sd2, n1, n2)\n",
    "print (z_value, p_value)\n",
    "if p_value < alpha:\n",
    "    print ('P-value is ', p_value)\n",
    "    print ('Reject H0: There IS a difference between female/male mean temperatures')\n",
    "else:\n",
    "    print ('P-value is ', p_value)\n",
    "    print ('Accept H0: There is NO difference between female/male mean temperatures')"
   ]
  },
  {
   "cell_type": "raw",
   "metadata": {
    "collapsed": true
   },
   "source": [
    "# The difference between the mean temperatures of males and females in the sample is statistically significant (95% level), or there be a Type I error from the sample tested."
   ]
  }
 ],
 "metadata": {
  "anaconda-cloud": {},
  "kernelspec": {
   "display_name": "Python [Root]",
   "language": "python",
   "name": "Python [Root]"
  },
  "language_info": {
   "codemirror_mode": {
    "name": "ipython",
    "version": 3
   },
   "file_extension": ".py",
   "mimetype": "text/x-python",
   "name": "python",
   "nbconvert_exporter": "python",
   "pygments_lexer": "ipython3",
   "version": "3.5.2"
  }
 },
 "nbformat": 4,
 "nbformat_minor": 0
}
